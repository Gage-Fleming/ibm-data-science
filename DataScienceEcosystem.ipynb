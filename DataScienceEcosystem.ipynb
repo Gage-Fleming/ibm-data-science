{
 "cells": [
  {
   "cell_type": "markdown",
   "id": "c0be4de0-d063-4aa2-8e38-e1d65bc18bda",
   "metadata": {
    "tags": []
   },
   "source": [
    "# Data Science Tools and Ecosystem"
   ]
  },
  {
   "cell_type": "markdown",
   "id": "191e9239-b64f-4b2f-9b40-d3d1affa9fd4",
   "metadata": {},
   "source": [
    "## Author\n",
    "Gage"
   ]
  },
  {
   "cell_type": "markdown",
   "id": "4d8d8431-121c-4f70-99fb-c482c8ee68fd",
   "metadata": {},
   "source": [
    "In this notebook, Data Science Tools and Ecosystem are summarized."
   ]
  },
  {
   "cell_type": "markdown",
   "id": "30ae1a3a-629f-481f-89f8-2166109886fb",
   "metadata": {},
   "source": [
    "__Objectives:__\n",
    "\n",
    "- List popular language for Data Science\n",
    "- Practice using Jupyter\n",
    "- Create simple markdown"
   ]
  },
  {
   "cell_type": "markdown",
   "id": "c95f2478-5d98-47b3-9a10-45dffa2ea078",
   "metadata": {},
   "source": [
    "Some of the popular languages that Data Scientists use are:\n",
    "1. Python\n",
    "2. R\n",
    "3. C++"
   ]
  },
  {
   "cell_type": "markdown",
   "id": "10fadbba-74cc-4d8c-aa4a-762396afe8c0",
   "metadata": {},
   "source": [
    "Some of the commonly used libraries used by Data Scientists include:\n",
    "1. Pandas\n",
    "2. Vegas\n",
    "3. NumPy"
   ]
  },
  {
   "cell_type": "markdown",
   "id": "06bcae11-bee7-4e8b-8ea7-cc988c6ffdda",
   "metadata": {},
   "source": [
    "|Data Science Tools|\n",
    "--------------------\n",
    "|RStudio|\n",
    "|Anaconda|\n",
    "|IBM Db2|"
   ]
  },
  {
   "cell_type": "markdown",
   "id": "5fdc9db9-e2f7-4018-b9d7-948df39e91d9",
   "metadata": {},
   "source": [
    "### Below are a few examples of evaluating arithmetic expressions in Python."
   ]
  },
  {
   "cell_type": "code",
   "execution_count": 1,
   "id": "b1167543-c71f-48e7-97a1-acefcd5b2324",
   "metadata": {},
   "outputs": [
    {
     "data": {
      "text/plain": [
       "17"
      ]
     },
     "execution_count": 1,
     "metadata": {},
     "output_type": "execute_result"
    }
   ],
   "source": [
    "# This is a simple arithmetic expression to multiple then add integers\n",
    "(3*4)+5"
   ]
  },
  {
   "cell_type": "code",
   "execution_count": 2,
   "id": "fca18f7f-47b5-4d0c-ad27-1e83d77f9fd0",
   "metadata": {},
   "outputs": [
    {
     "data": {
      "text/plain": [
       "3.3333333333333335"
      ]
     },
     "execution_count": 2,
     "metadata": {},
     "output_type": "execute_result"
    }
   ],
   "source": [
    "# This will convert 200 minutes to hours by dividing by 60\n",
    "200 / 60"
   ]
  }
 ],
 "metadata": {
  "kernelspec": {
   "display_name": "Python 3 (ipykernel)",
   "language": "python",
   "name": "python3"
  },
  "language_info": {
   "codemirror_mode": {
    "name": "ipython",
    "version": 3
   },
   "file_extension": ".py",
   "mimetype": "text/x-python",
   "name": "python",
   "nbconvert_exporter": "python",
   "pygments_lexer": "ipython3",
   "version": "3.9.13"
  }
 },
 "nbformat": 4,
 "nbformat_minor": 5
}
